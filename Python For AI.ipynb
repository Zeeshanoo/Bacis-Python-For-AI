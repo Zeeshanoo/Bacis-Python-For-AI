{
 "cells": [
  {
   "cell_type": "markdown",
   "id": "8dff8e2a",
   "metadata": {},
   "source": [
    "# Variable DataTypes\n"
   ]
  },
  {
   "cell_type": "code",
   "execution_count": null,
   "id": "9a4339d4",
   "metadata": {},
   "outputs": [],
   "source": []
  },
  {
   "cell_type": "markdown",
   "id": "0feb2745",
   "metadata": {},
   "source": [
    "a = 14\n",
    "c = 24\n",
    "add = a+c\n",
    "print(add)\n",
    "print('---------------------------')\n",
    "x = 'Zeeshan'\n",
    "y = 23\n",
    "z = 2.34\n",
    "print('type of x',type(x))\n",
    "print('type of y',type(y))\n",
    "print('type of z',type(z))\n"
   ]
  },
  {
   "cell_type": "markdown",
   "id": "4f86829e",
   "metadata": {},
   "source": [
    "# User Input"
   ]
  },
  {
   "cell_type": "code",
   "execution_count": 9,
   "id": "fa89fc0c",
   "metadata": {},
   "outputs": [
    {
     "name": "stdout",
     "output_type": "stream",
     "text": [
      "Enter Numbershan\n",
      "type of Input Value is <class 'str'>\n"
     ]
    }
   ],
   "source": [
    "var = input('Enter Number')\n",
    "print('type of Input Value is',type(var))\n"
   ]
  },
  {
   "cell_type": "markdown",
   "id": "4099819b",
   "metadata": {},
   "source": [
    "# Type Conversion"
   ]
  },
  {
   "cell_type": "code",
   "execution_count": 10,
   "id": "24726920",
   "metadata": {},
   "outputs": [
    {
     "name": "stdout",
     "output_type": "stream",
     "text": [
      "1\n",
      "<class 'int'>\n"
     ]
    }
   ],
   "source": [
    "x= '1'\n",
    "x =int(x)\n",
    "print(x)\n",
    "print(type(x))"
   ]
  },
  {
   "cell_type": "code",
   "execution_count": 11,
   "id": "54f03f46",
   "metadata": {},
   "outputs": [
    {
     "ename": "ValueError",
     "evalue": "invalid literal for int() with base 10: 'xyz'",
     "output_type": "error",
     "traceback": [
      "\u001b[1;31m---------------------------------------------------------------------------\u001b[0m",
      "\u001b[1;31mValueError\u001b[0m                                Traceback (most recent call last)",
      "Cell \u001b[1;32mIn[11], line 2\u001b[0m\n\u001b[0;32m      1\u001b[0m x \u001b[38;5;241m=\u001b[39m\u001b[38;5;124m'\u001b[39m\u001b[38;5;124mxyz\u001b[39m\u001b[38;5;124m'\u001b[39m\n\u001b[1;32m----> 2\u001b[0m x \u001b[38;5;241m=\u001b[39m \u001b[38;5;28mint\u001b[39m(x)\n\u001b[0;32m      3\u001b[0m \u001b[38;5;28mprint\u001b[39m(x)\n\u001b[0;32m      4\u001b[0m \u001b[38;5;28mprint\u001b[39m(\u001b[38;5;28mtype\u001b[39m(x))\n",
      "\u001b[1;31mValueError\u001b[0m: invalid literal for int() with base 10: 'xyz'"
     ]
    }
   ],
   "source": [
    "x ='xyz'\n",
    "x = int(x)\n",
    "print(x)\n",
    "print(type(x))"
   ]
  },
  {
   "cell_type": "code",
   "execution_count": 15,
   "id": "a5848220",
   "metadata": {},
   "outputs": [
    {
     "name": "stdout",
     "output_type": "stream",
     "text": [
      "23\n",
      "23\n",
      "<class 'str'>\n"
     ]
    }
   ],
   "source": [
    "a = 23\n",
    "a = str(a)\n",
    "print(a)\n",
    "print(a)\n",
    "print(type(a))"
   ]
  },
  {
   "cell_type": "code",
   "execution_count": 17,
   "id": "0a5a0a48",
   "metadata": {},
   "outputs": [
    {
     "name": "stdout",
     "output_type": "stream",
     "text": [
      "23.34\n",
      "<class 'str'>\n"
     ]
    }
   ],
   "source": [
    "b = 23.34\n",
    "my_string =str(b)\n",
    "print(my_string)\n",
    "print(type(my_string))"
   ]
  },
  {
   "cell_type": "code",
   "execution_count": 20,
   "id": "e14537d9",
   "metadata": {},
   "outputs": [
    {
     "name": "stdout",
     "output_type": "stream",
     "text": [
      "Enter Value12.3\n",
      "type of Var <class 'str'>\n"
     ]
    }
   ],
   "source": [
    "var =input(\"Enter Value\")\n",
    "print('type of Var',type(var))\n"
   ]
  },
  {
   "cell_type": "code",
   "execution_count": 23,
   "id": "c9621c01",
   "metadata": {},
   "outputs": [
    {
     "name": "stdout",
     "output_type": "stream",
     "text": [
      "Enter a number: 12.3\n",
      "You did not enter a valid integer.\n"
     ]
    }
   ],
   "source": [
    "user_input = input(\"Enter a number: \")\n",
    "try:\n",
    "    user_input_as_integer = int(user_input)\n",
    "    print(\"You entered an integer:\", user_input_as_integer)\n",
    "except ValueError:\n",
    "    print(\"You did not enter a valid integer.\")\n"
   ]
  },
  {
   "cell_type": "markdown",
   "id": "074ad447",
   "metadata": {},
   "source": [
    "# Operators"
   ]
  },
  {
   "cell_type": "code",
   "execution_count": 24,
   "id": "89e6d089",
   "metadata": {},
   "outputs": [
    {
     "data": {
      "text/plain": [
       "'\\n1-> arithematic Operator\\n1-> arithematic Operator\\n1-> arithematic Operator\\n\\n\\n'"
      ]
     },
     "execution_count": 24,
     "metadata": {},
     "output_type": "execute_result"
    }
   ],
   "source": [
    "\"\"\"\n",
    "1. arithematic operators\n",
    "2. logical operators\n",
    "3. conditional operators\n",
    "4. relational operators\n",
    "5. membership operators\n",
    "6. identity operators\n",
    "\n",
    "\"\"\""
   ]
  },
  {
   "cell_type": "code",
   "execution_count": 25,
   "id": "e01850d8",
   "metadata": {},
   "outputs": [
    {
     "name": "stdout",
     "output_type": "stream",
     "text": [
      "addition is  45\n",
      "miltiplication is  450\n",
      "subtraction is  -15\n",
      "division is  0.5\n",
      "integer devision is  0\n"
     ]
    }
   ],
   "source": [
    "# 1-> arithematic Operator\n",
    "a = 15\n",
    "b = 30\n",
    "add = a+b\n",
    "mul = a*b\n",
    "sub = a-b\n",
    "div = a/b\n",
    "int_div =a//b\n",
    "print('addition is ',add)\n",
    "print('miltiplication is ',mul)\n",
    "print('subtraction is ',sub)\n",
    "print('division is ',div)\n",
    "print('integer devision is ',int_div)\n"
   ]
  },
  {
   "cell_type": "code",
   "execution_count": 32,
   "id": "7cc7e7a9",
   "metadata": {},
   "outputs": [
    {
     "name": "stdout",
     "output_type": "stream",
     "text": [
      "Enter first Number 34\n",
      "Enter second number 23\n",
      "addition is  57\n",
      "multiplication is  782\n",
      "subtraction is  11\n",
      "division is  0.5\n",
      "integer devision is  1\n"
     ]
    }
   ],
   "source": [
    "a = int(input('Enter first Number '))\n",
    "b = int(input('Enter second number '))\n",
    "adding = a+b\n",
    "multiply = a*b\n",
    "subtract = a-b\n",
    "divided = a/b\n",
    "int_divided =a//b\n",
    "\n",
    "print('addition is ', adding)\n",
    "print('multiplication is ', multiply)\n",
    "print('subtraction is ', subtract)\n",
    "print('division is ',div)\n",
    "print('integer devision is ', int_divided)\n",
    "\n"
   ]
  },
  {
   "cell_type": "code",
   "execution_count": 38,
   "id": "05c88421",
   "metadata": {},
   "outputs": [
    {
     "name": "stdout",
     "output_type": "stream",
     "text": [
      "Enter number for x 1\n",
      "Enter number of y 1\n",
      "1\n"
     ]
    }
   ],
   "source": [
    "# 2-> logical operator\n",
    "x = int(input('Enter number for x '))\n",
    "y = int(input('Enter number of y '))\n",
    "print(x & y)"
   ]
  },
  {
   "cell_type": "code",
   "execution_count": 41,
   "id": "cbd8550e",
   "metadata": {},
   "outputs": [
    {
     "name": "stdout",
     "output_type": "stream",
     "text": [
      "Enter number for x 0\n",
      "Enter number of y 0\n",
      "0\n"
     ]
    }
   ],
   "source": [
    "# 2-> logical operator\n",
    "x = int(input('Enter number for x '))\n",
    "y = int(input('Enter number of y '))\n",
    "print(x or y)"
   ]
  },
  {
   "cell_type": "code",
   "execution_count": 49,
   "id": "1429585a",
   "metadata": {},
   "outputs": [
    {
     "name": "stdout",
     "output_type": "stream",
     "text": [
      "Enter number for x 0\n",
      "Enter number of y 0\n",
      "0 True\n"
     ]
    }
   ],
   "source": [
    "# 2-> logical operator\n",
    "x = int(input('Enter number for x '))\n",
    "y = int(input('Enter number of y '))\n",
    "print(x ,not y)"
   ]
  },
  {
   "cell_type": "markdown",
   "id": "1a338b95",
   "metadata": {},
   "source": [
    "# Conditional Statement\n",
    "## if else"
   ]
  },
  {
   "cell_type": "code",
   "execution_count": 52,
   "id": "5204173a",
   "metadata": {},
   "outputs": [
    {
     "name": "stdout",
     "output_type": "stream",
     "text": [
      "Enter Any number-3\n",
      "Number is less then zero\n"
     ]
    }
   ],
   "source": [
    "x = int(input('Enter Any number'))\n",
    "if x == 0:\n",
    "    print('number equal to Zero')\n",
    "elif x >0:\n",
    "    print('number is greater then zero')\n",
    "else:\n",
    "    print('Number is less then zero')"
   ]
  },
  {
   "cell_type": "code",
   "execution_count": null,
   "id": "34cd47ef",
   "metadata": {},
   "outputs": [],
   "source": [
    "x = int(input('Enter number for x'))\n",
    "y = int(input('Enter number for y'))\n",
    "if x>y:\n",
    "    print('x is greater ')\n",
    "else:\n",
    "    print('y is greater')"
   ]
  },
  {
   "cell_type": "markdown",
   "id": "6f3d4b1c",
   "metadata": {},
   "source": [
    "# Range"
   ]
  },
  {
   "cell_type": "code",
   "execution_count": 1,
   "id": "dddde344",
   "metadata": {},
   "outputs": [
    {
     "name": "stdout",
     "output_type": "stream",
     "text": [
      "Hello Mr ['Zeeshan', 'aslam', 'Ahmad'] your father_name is ['muhammad khan', 'jibran'] i have wrote your age ['23', '24', '22'] and  this is your ['1234567879', '989765432', '35646788'] \n",
      "Hello Mr ['Zeeshan', 'aslam', 'Ahmad'] your father_name is ['muhammad khan', 'jibran'] i have wrote your age ['23', '24', '22'] and  this is your ['1234567879', '989765432', '35646788'] \n"
     ]
    }
   ],
   "source": [
    "std_names = ['Zeeshan','aslam','Ahmad']\n",
    "father_name = ['muhammad khan','jibran']\n",
    "age = ['23','24','22']\n",
    "contact_number = ['1234567879','989765432','35646788']\n",
    "for i in range(2):\n",
    "    print(f'Hello Mr {std_names} your father_name is {father_name} i have wrote your age {age} and  this is your contact {contact_number} ')\n"
   ]
  },
  {
   "cell_type": "code",
   "execution_count": 5,
   "id": "cbd726a2",
   "metadata": {},
   "outputs": [
    {
     "name": "stdout",
     "output_type": "stream",
     "text": [
      "Hello Mr Zeeshan your father_name is muhammad khan i have wrote your age 23  \n",
      "Hello Mr aslam your father_name is jibran i have wrote your age 24  \n"
     ]
    }
   ],
   "source": [
    "std_names = ['Zeeshan','aslam','Ahmad']\n",
    "father_name = ['muhammad khan','jibran']\n",
    "age = ['23','24','22']\n",
    "for i in range(2):\n",
    "    print(f'Hello Mr {std_names[i]} your father_name is {father_name[i]} i have wrote your age {age[i]}  ')"
   ]
  },
  {
   "cell_type": "markdown",
   "id": "fa8ef61c",
   "metadata": {},
   "source": [
    "# Loop\n",
    "## for and While Loop"
   ]
  },
  {
   "cell_type": "code",
   "execution_count": 24,
   "id": "30a14bfa",
   "metadata": {},
   "outputs": [
    {
     "name": "stdout",
     "output_type": "stream",
     "text": [
      "Enter any number5\n",
      "5*1=5\n",
      "5*2=10\n",
      "5*3=15\n",
      "5*4=20\n",
      "5*5=25\n",
      "5*7=35\n",
      "5*8=40\n",
      "5*9=45\n",
      "5*10=50\n"
     ]
    }
   ],
   "source": [
    "table = int(input(\"Enter any number\"))\n",
    "for i in range(1,11):\n",
    "    if i==6:\n",
    "        continue\n",
    "    else:\n",
    "        print(f\"{table}*{i}={table*i}\")\n",
    "        \n"
   ]
  },
  {
   "cell_type": "markdown",
   "id": "a796c9c3",
   "metadata": {},
   "source": [
    "# Odd & Even"
   ]
  },
  {
   "cell_type": "code",
   "execution_count": 28,
   "id": "fc69385a",
   "metadata": {},
   "outputs": [
    {
     "name": "stdout",
     "output_type": "stream",
     "text": [
      "1 odd number\n",
      "2 Even Number \n",
      "3 odd number\n",
      "4 Even Number \n",
      "5 odd number\n",
      "6 Even Number \n",
      "7 odd number\n",
      "8 Even Number \n",
      "9 odd number\n",
      "10 Even Number \n",
      "11 odd number\n",
      "12 Even Number \n",
      "13 odd number\n",
      "14 Even Number \n",
      "15 odd number\n",
      "16 Even Number \n",
      "17 odd number\n",
      "18 Even Number \n",
      "19 odd number\n",
      "20 Even Number \n"
     ]
    }
   ],
   "source": [
    "for i in range(1,21):\n",
    "    if i%2 ==0:\n",
    "        print(f'{i} Even Number ')\n",
    "    else:\n",
    "        print(f'{i} odd number')"
   ]
  },
  {
   "cell_type": "markdown",
   "id": "4698d72b",
   "metadata": {},
   "source": [
    "# While"
   ]
  },
  {
   "cell_type": "code",
   "execution_count": 32,
   "id": "34c64933",
   "metadata": {},
   "outputs": [
    {
     "name": "stdout",
     "output_type": "stream",
     "text": [
      "15\n",
      "16\n",
      "17\n",
      "18\n",
      "19\n",
      "20\n",
      "21\n",
      "22\n",
      "23\n",
      "24\n",
      "25\n"
     ]
    }
   ],
   "source": [
    "c = 15\n",
    "while c <=25:\n",
    "    print(c)\n",
    "    c +=1\n",
    "    "
   ]
  },
  {
   "cell_type": "code",
   "execution_count": 2,
   "id": "d83e0d28",
   "metadata": {},
   "outputs": [],
   "source": [
    "def convert(value,amount):\n",
    "    x =value*amount\n",
    "    print(f\"your amount{amount} is equilant to {x} pkr\")\n",
    "    \n",
    "    \n",
    "    "
   ]
  },
  {
   "cell_type": "code",
   "execution_count": 6,
   "id": "c51bf287",
   "metadata": {},
   "outputs": [
    {
     "name": "stdout",
     "output_type": "stream",
     "text": [
      "Enter value42\n",
      "Enter amount45\n"
     ]
    },
    {
     "ename": "NameError",
     "evalue": "name 'amout' is not defined",
     "output_type": "error",
     "traceback": [
      "\u001b[1;31m---------------------------------------------------------------------------\u001b[0m",
      "\u001b[1;31mNameError\u001b[0m                                 Traceback (most recent call last)",
      "Cell \u001b[1;32mIn[6], line 3\u001b[0m\n\u001b[0;32m      1\u001b[0m value \u001b[38;5;241m=\u001b[39m \u001b[38;5;28mfloat\u001b[39m(\u001b[38;5;28minput\u001b[39m(\u001b[38;5;124m\"\u001b[39m\u001b[38;5;124mEnter value\u001b[39m\u001b[38;5;124m\"\u001b[39m))\n\u001b[0;32m      2\u001b[0m amount \u001b[38;5;241m=\u001b[39m \u001b[38;5;28mfloat\u001b[39m(\u001b[38;5;28minput\u001b[39m(\u001b[38;5;124m\"\u001b[39m\u001b[38;5;124mEnter amount\u001b[39m\u001b[38;5;124m\"\u001b[39m))\n\u001b[1;32m----> 3\u001b[0m convert(value,amount)\n",
      "Cell \u001b[1;32mIn[2], line 3\u001b[0m, in \u001b[0;36mconvert\u001b[1;34m(value, amount)\u001b[0m\n\u001b[0;32m      1\u001b[0m \u001b[38;5;28;01mdef\u001b[39;00m \u001b[38;5;21mconvert\u001b[39m(value,amount):\n\u001b[0;32m      2\u001b[0m     x \u001b[38;5;241m=\u001b[39mvalue\u001b[38;5;241m*\u001b[39mamount\n\u001b[1;32m----> 3\u001b[0m     \u001b[38;5;28mprint\u001b[39m(\u001b[38;5;124mf\u001b[39m\u001b[38;5;124m\"\u001b[39m\u001b[38;5;124myour amount\u001b[39m\u001b[38;5;132;01m{\u001b[39;00mamout\u001b[38;5;132;01m}\u001b[39;00m\u001b[38;5;124m is equilant to \u001b[39m\u001b[38;5;132;01m{\u001b[39;00mx\u001b[38;5;132;01m}\u001b[39;00m\u001b[38;5;124m pkr\u001b[39m\u001b[38;5;124m\"\u001b[39m)\n",
      "\u001b[1;31mNameError\u001b[0m: name 'amout' is not defined"
     ]
    }
   ],
   "source": [
    "value = float(input(\"Enter value\"))\n",
    "amount = float(input(\"Enter amount\"))\n",
    "convert(value,amount)"
   ]
  },
  {
   "cell_type": "code",
   "execution_count": 11,
   "id": "5761e594",
   "metadata": {},
   "outputs": [
    {
     "ename": "SyntaxError",
     "evalue": "expected ':' (3399919919.py, line 2)",
     "output_type": "error",
     "traceback": [
      "\u001b[1;36m  Cell \u001b[1;32mIn[11], line 2\u001b[1;36m\u001b[0m\n\u001b[1;33m    if s<=70\u001b[0m\n\u001b[1;37m            ^\u001b[0m\n\u001b[1;31mSyntaxError\u001b[0m\u001b[1;31m:\u001b[0m expected ':'\n"
     ]
    }
   ],
   "source": [
    "def speed_control(speed):\n",
    "    limit =70\n",
    "    pt =(speed-limit)//5\n",
    "    print(\"panility pointa =\",pt)\n",
    "    if speed>0 and  speed=limit:\n",
    "    print(\"Ok\")\n",
    "    if pt>=12:\n",
    "        print('You are over speed .your driving liecenceis canceled')"
   ]
  },
  {
   "cell_type": "code",
   "execution_count": 19,
   "id": "92c33773",
   "metadata": {},
   "outputs": [
    {
     "ename": "NameError",
     "evalue": "name 'speed' is not defined",
     "output_type": "error",
     "traceback": [
      "\u001b[1;31m---------------------------------------------------------------------------\u001b[0m",
      "\u001b[1;31mNameError\u001b[0m                                 Traceback (most recent call last)",
      "Cell \u001b[1;32mIn[19], line 1\u001b[0m\n\u001b[1;32m----> 1\u001b[0m speed(\u001b[38;5;241m78\u001b[39m)\n",
      "\u001b[1;31mNameError\u001b[0m: name 'speed' is not defined"
     ]
    }
   ],
   "source": [
    "speed(78)"
   ]
  },
  {
   "cell_type": "code",
   "execution_count": 21,
   "id": "cef3be43",
   "metadata": {},
   "outputs": [
    {
     "ename": "SyntaxError",
     "evalue": "invalid syntax (4166953145.py, line 5)",
     "output_type": "error",
     "traceback": [
      "\u001b[1;36m  Cell \u001b[1;32mIn[21], line 5\u001b[1;36m\u001b[0m\n\u001b[1;33m    if speed>0 and  speed=limit:\u001b[0m\n\u001b[1;37m                         ^\u001b[0m\n\u001b[1;31mSyntaxError\u001b[0m\u001b[1;31m:\u001b[0m invalid syntax\n"
     ]
    }
   ],
   "source": [
    "def speed_control(speed):\n",
    "    limit =70\n",
    "    pt =(speed-limit)//5\n",
    "    print(\"panility pointa =\",pt)\n",
    "    if speed>0 and  speed<=limit:\n",
    "        print(\"Ok\")\n",
    "    if pt>=12:\n",
    "        print(\"your driving liecenceis canceled\")"
   ]
  },
  {
   "cell_type": "code",
   "execution_count": 22,
   "id": "37e7d708",
   "metadata": {},
   "outputs": [
    {
     "ename": "NameError",
     "evalue": "name 'speed' is not defined",
     "output_type": "error",
     "traceback": [
      "\u001b[1;31m---------------------------------------------------------------------------\u001b[0m",
      "\u001b[1;31mNameError\u001b[0m                                 Traceback (most recent call last)",
      "Cell \u001b[1;32mIn[22], line 1\u001b[0m\n\u001b[1;32m----> 1\u001b[0m speed(\u001b[38;5;241m89\u001b[39m)\n",
      "\u001b[1;31mNameError\u001b[0m: name 'speed' is not defined"
     ]
    }
   ],
   "source": [
    "speed(89)"
   ]
  },
  {
   "cell_type": "code",
   "execution_count": 24,
   "id": "3ac46bdc",
   "metadata": {},
   "outputs": [],
   "source": [
    "def speed_control(speed):\n",
    "    limit =70\n",
    "    pt =(speed-limit)//5\n",
    "    print(\"panility pointa =\",pt)\n",
    "    if speed>0 and  speed<=limit:\n",
    "        print(\"Ok\")\n",
    "    if pt>=12:\n",
    "        print(\"your driving liecenceis canceled\")"
   ]
  },
  {
   "cell_type": "code",
   "execution_count": 26,
   "id": "b545e971",
   "metadata": {},
   "outputs": [
    {
     "name": "stdout",
     "output_type": "stream",
     "text": [
      "panility pointa = 3\n"
     ]
    }
   ],
   "source": [
    "speed_control(89)"
   ]
  },
  {
   "cell_type": "markdown",
   "id": "8a738cac",
   "metadata": {},
   "source": [
    "# Dictionary\n",
    "## simple example"
   ]
  },
  {
   "cell_type": "code",
   "execution_count": 24,
   "id": "44b3f65e",
   "metadata": {},
   "outputs": [
    {
     "name": "stdout",
     "output_type": "stream",
     "text": [
      "1\n"
     ]
    }
   ],
   "source": [
    "ayan ={'age': 'four' ,'class':1,'nick_name':'ayu'}\n",
    "print(ayan[\"class\"])"
   ]
  },
  {
   "cell_type": "markdown",
   "id": "d6723d9f",
   "metadata": {},
   "source": [
    "print(type(b))"
   ]
  },
  {
   "cell_type": "code",
   "execution_count": 36,
   "id": "63a59397",
   "metadata": {},
   "outputs": [
    {
     "name": "stdout",
     "output_type": "stream",
     "text": [
      "9\n",
      "great shan you got 9 score\n"
     ]
    }
   ],
   "source": [
    "shan ={\"age\":24,\"score\":9,\"city\":\"pesh\"}\n",
    "print(shan[\"score\"])\n",
    "shan_1 =shan['score']\n",
    "print(\"great shan you got \"+str(shan_1) + \" score\")"
   ]
  },
  {
   "cell_type": "code",
   "execution_count": 39,
   "id": "de09a669",
   "metadata": {},
   "outputs": [
    {
     "name": "stdout",
     "output_type": "stream",
     "text": [
      "{'age': 24, 'score': 9, 'city': 'pesh', 'x_position': 0, 'y_position': 25}\n"
     ]
    }
   ],
   "source": [
    "shan['x_position']=0\n",
    "shan['y_position']=25\n",
    "print(shan)\n"
   ]
  },
  {
   "cell_type": "markdown",
   "id": "10d75b38",
   "metadata": {},
   "source": [
    "# Empty list dictionary"
   ]
  },
  {
   "cell_type": "code",
   "execution_count": 45,
   "id": "99b17993",
   "metadata": {},
   "outputs": [
    {
     "name": "stdout",
     "output_type": "stream",
     "text": [
      "{'color': 'yellow', 'weight': 120}\n"
     ]
    }
   ],
   "source": [
    "banana ={}\n",
    "banana['color']=\"yellow\"\n",
    "banana['weight']=120\n",
    "print(banana)"
   ]
  },
  {
   "cell_type": "markdown",
   "id": "14c665c9",
   "metadata": {},
   "source": [
    "# Modifying Values in a Dictionary  "
   ]
  },
  {
   "cell_type": "code",
   "execution_count": 60,
   "id": "2ba926a6",
   "metadata": {},
   "outputs": [
    {
     "name": "stdout",
     "output_type": "stream",
     "text": [
      "the color of apple is red.\n",
      "now the color of apple is become green.\n"
     ]
    }
   ],
   "source": [
    "apple ={'color':\"red\"}\n",
    "print(\"the color of apple is \"+apple['color']+\".\")\n",
    "apple={'color':\"green\"}\n",
    "print('now the color of apple is become '+apple['color']+ \".\")"
   ]
  },
  {
   "cell_type": "code",
   "execution_count": 12,
   "id": "bf026f25",
   "metadata": {},
   "outputs": [
    {
     "name": "stdout",
     "output_type": "stream",
     "text": [
      "Original x_position .0\n",
      "new x_position is 2\n"
     ]
    }
   ],
   "source": [
    "robot ={\"x_position\":0,\"y_position\":1,\"speed\":\"medium\"}\n",
    "print('Original x_position .'+str(robot[\"x_position\"]))\n",
    "if robot['speed']=='slow':\n",
    "    x_increment =1\n",
    "elif robot['speed']=='medium':\n",
    "    x_increment =2\n",
    "else:\n",
    "    x_increment=3\n",
    "robot['x_position'] = robot['x_position']+ x_increment\n",
    "print(\"new x_position is \"+str(robot['x_position']))"
   ]
  },
  {
   "cell_type": "code",
   "execution_count": 17,
   "id": "f772c756",
   "metadata": {},
   "outputs": [
    {
     "name": "stdout",
     "output_type": "stream",
     "text": [
      "original x_position is 0\n",
      "new Position of alien is 3\n"
     ]
    }
   ],
   "source": [
    "alien = {\"x_position\":0,\"y_position\":2,\"speed\":\"\"}\n",
    "print(\"original x_position is \"+str(alien[\"x_position\"]))\n",
    "if alien['speed']==\"slow\":\n",
    "    increment =1\n",
    "elif alien[\"speed\"]==\"medium\":\n",
    "    increment =2\n",
    "else:\n",
    "    increment =3\n",
    "alien[\"x_position\"]=alien[\"x_position\"]+ increment\n",
    "print(\"new Position of alien is \"+str(alien['x_position']))\n",
    "\n"
   ]
  },
  {
   "cell_type": "markdown",
   "id": "64f7249a",
   "metadata": {},
   "source": [
    "# Deleting key value from Dictionary"
   ]
  },
  {
   "cell_type": "code",
   "execution_count": 25,
   "id": "fdcf1960",
   "metadata": {},
   "outputs": [
    {
     "name": "stdout",
     "output_type": "stream",
     "text": [
      "the mango is sweet and color is yellow\n",
      "the mango is sweet\n",
      "{'testy': 'sweet'}\n"
     ]
    }
   ],
   "source": [
    "mango ={\"testy\":\"sweet\",\"color\":\"yellow\"}\n",
    "print(\"the mango is \"+ str(mango['testy'] +\" and color is \"+str(mango[\"color\"]) ))\n",
    "del mango['color']\n",
    "print('the mango is '+str(mango['testy']))\n",
    "print(mango)"
   ]
  },
  {
   "cell_type": "markdown",
   "id": "9f48ec49",
   "metadata": {},
   "source": [
    "# dictionary of simple object"
   ]
  },
  {
   "cell_type": "code",
   "execution_count": 1,
   "id": "0b8c7e30",
   "metadata": {},
   "outputs": [
    {
     "name": "stdout",
     "output_type": "stream",
     "text": [
      "{'shan': 'orange', 'ahmad': 'red', 'Husna': 'pink'}\n"
     ]
    }
   ],
   "source": [
    "favourit_color ={\n",
    "    \"shan\":\"purpal\",\n",
    "    \"ahmad\":\"red\",\n",
    "    \"Husna\":\"pink\",\n",
    "}\n",
    "favourit_color['shan']=\"orange\"\n",
    "print(favourit_color)"
   ]
  },
  {
   "cell_type": "code",
   "execution_count": 15,
   "id": "9ea9ab81",
   "metadata": {},
   "outputs": [
    {
     "ename": "TypeError",
     "evalue": "'str' object cannot be interpreted as an integer",
     "output_type": "error",
     "traceback": [
      "\u001b[1;31m---------------------------------------------------------------------------\u001b[0m",
      "\u001b[1;31mTypeError\u001b[0m                                 Traceback (most recent call last)",
      "Cell \u001b[1;32mIn[15], line 6\u001b[0m\n\u001b[0;32m      1\u001b[0m favourit_language \u001b[38;5;241m=\u001b[39m{\n\u001b[0;32m      2\u001b[0m     \u001b[38;5;124m\"\u001b[39m\u001b[38;5;124mAli\u001b[39m\u001b[38;5;124m\"\u001b[39m:\u001b[38;5;124m\"\u001b[39m\u001b[38;5;124mC++\u001b[39m\u001b[38;5;124m\"\u001b[39m,\n\u001b[0;32m      3\u001b[0m     \u001b[38;5;124m\"\u001b[39m\u001b[38;5;124mShan\u001b[39m\u001b[38;5;124m\"\u001b[39m: \u001b[38;5;241m123\u001b[39m,\n\u001b[0;32m      4\u001b[0m     \u001b[38;5;124m\"\u001b[39m\u001b[38;5;124mAhmad\u001b[39m\u001b[38;5;124m\"\u001b[39m:\u001b[38;5;124m\"\u001b[39m\u001b[38;5;124mkotlin\u001b[39m\u001b[38;5;124m\"\u001b[39m\n\u001b[0;32m      5\u001b[0m }\n\u001b[1;32m----> 6\u001b[0m \u001b[38;5;28mprint\u001b[39m(\u001b[38;5;124m\"\u001b[39m\u001b[38;5;124mShan favourit language is \u001b[39m\u001b[38;5;124m\"\u001b[39m, \u001b[38;5;28mint\u001b[39m(favourit_language[\u001b[38;5;124m'\u001b[39m\u001b[38;5;124mShan\u001b[39m\u001b[38;5;124m'\u001b[39m] , \u001b[38;5;124m\"\u001b[39m\u001b[38;5;124m.\u001b[39m\u001b[38;5;124m\"\u001b[39m))\n",
      "\u001b[1;31mTypeError\u001b[0m: 'str' object cannot be interpreted as an integer"
     ]
    }
   ],
   "source": [
    "favourit_language ={\n",
    "    \"Ali\":\"C++\",\n",
    "    \"Shan\": 123,\n",
    "    \"Ahmad\":\"kotlin\"\n",
    "}\n",
    "print(\"Shan favourit language is \", int(favourit_language['Shan'] , \".\"))"
   ]
  },
  {
   "cell_type": "code",
   "execution_count": 28,
   "id": "0c95b2f2",
   "metadata": {},
   "outputs": [
    {
     "name": "stdout",
     "output_type": "stream",
     "text": [
      "the ninfo os person is {'name': 'Muhammad Zeeshan', 'father name': 'khan wali', 'cnic': '217021234567', 'roll number': '60', 'age': '23', 'city': 'Peshawar'}.\n"
     ]
    }
   ],
   "source": [
    "person ={\n",
    "    \"name\":'Muhammad Zeeshan',\n",
    "    'father name':'khan wali',\n",
    "    'cnic':'217021234567',\n",
    "    \"roll number\":\"60\",\n",
    "    \"age\":'23',\n",
    "    'city':'Peshawar'\n",
    "}\n",
    "print(f\"the ninfo of person is \"+str(person)+ \".\")"
   ]
  },
  {
   "cell_type": "code",
   "execution_count": 55,
   "id": "91822d81",
   "metadata": {},
   "outputs": [
    {
     "name": "stdout",
     "output_type": "stream",
     "text": [
      "{'list': 'to store data in list formate ', 'array': 'same like list', 'loops': 'how much data you want to print', 'funcation': 'use def keyword', 'dictionary': 'to store data in list '}\n"
     ]
    }
   ],
   "source": [
    "glossary ={\n",
    "    \"list\":\"to store data in list formate \",\n",
    "    \"array\":\"same like list\",\n",
    "    'loops':\"how much data you want to print\",\n",
    "    \"funcation\":\"use def keyword\",\n",
    "    \"dictionary\":\"to store data in list \"\n",
    "}\n",
    "print(glossary)"
   ]
  },
  {
   "cell_type": "code",
   "execution_count": 11,
   "id": "09875022",
   "metadata": {},
   "outputs": [
    {
     "name": "stdout",
     "output_type": "stream",
     "text": [
      "jim\n",
      "husna\n",
      "asma\n"
     ]
    }
   ],
   "source": [
    "fav_lang ={\n",
    "    \"jim\":\"english\",\n",
    "    \"husna\":\"arabic\",\n",
    "    'asma':\"chines\"\n",
    "}\n",
    "for k in fav_lang.keys():\n",
    "    print(k)"
   ]
  },
  {
   "cell_type": "code",
   "execution_count": 14,
   "id": "28fd6efa",
   "metadata": {},
   "outputs": [
    {
     "name": "stdout",
     "output_type": "stream",
     "text": [
      "\n",
      "k:kambakht \n",
      "yes very\n",
      "\n",
      "k:age\n",
      "4\n",
      "\n",
      "k:fav_fruit\n",
      "mango\n"
     ]
    }
   ],
   "source": [
    "ayan ={\n",
    "    'kambakht ':\"yes very\",\n",
    "    'age':4,\n",
    "    \"fav_fruit\":'mango'\n",
    "}\n",
    "for k,v in ayan.items():\n",
    "    print('\\nk:'+k)\n",
    "    print(str(v))"
   ]
  },
  {
   "cell_type": "code",
   "execution_count": 15,
   "id": "6170a200",
   "metadata": {},
   "outputs": [
    {
     "name": "stdout",
     "output_type": "stream",
     "text": [
      "Ahmad, thank your for taking the pool\n",
      "Sadeeq, thank your for taking the pool\n",
      "Shan, thank your for taking the pool\n"
     ]
    }
   ],
   "source": [
    "fav_language ={\n",
    "    'shan':\"arabic\",\n",
    "    'ahmad':'English',\n",
    "    'sadeeq':'urdu'\n",
    "}\n",
    "for name in sorted(fav_language.keys()):\n",
    "    print(name.title()+ \", thank your for taking the pool\")\n",
    "    "
   ]
  },
  {
   "cell_type": "markdown",
   "id": "6ada23c7",
   "metadata": {},
   "source": [
    "#  repeated value "
   ]
  },
  {
   "cell_type": "code",
   "execution_count": 17,
   "id": "e57af46d",
   "metadata": {},
   "outputs": [
    {
     "name": "stdout",
     "output_type": "stream",
     "text": [
      "Urdu, thank your for taking the pool\n",
      "English, thank your for taking the pool\n",
      "Arabic, thank your for taking the pool\n"
     ]
    }
   ],
   "source": [
    "fav_language ={\n",
    "    'shan':\"arabic\",\n",
    "    'ahmad':'English',\n",
    "    'sadeeq':'urdu',\n",
    "    'Ali':'arabic'\n",
    "}\n",
    "for name in set(fav_language.values()):\n",
    "    print(name.title()+ \", thank your for taking the pool\")"
   ]
  },
  {
   "cell_type": "code",
   "execution_count": 18,
   "id": "8fef441c",
   "metadata": {},
   "outputs": [
    {
     "name": "stdout",
     "output_type": "stream",
     "text": [
      "this are the reivers mention below:\n"
     ]
    },
    {
     "ename": "AttributeError",
     "evalue": "'tuple' object has no attribute 'title'",
     "output_type": "error",
     "traceback": [
      "\u001b[1;31m---------------------------------------------------------------------------\u001b[0m",
      "\u001b[1;31mAttributeError\u001b[0m                            Traceback (most recent call last)",
      "Cell \u001b[1;32mIn[18], line 8\u001b[0m\n\u001b[0;32m      6\u001b[0m \u001b[38;5;28mprint\u001b[39m(\u001b[38;5;124m\"\u001b[39m\u001b[38;5;124mthis are the reivers mention below:\u001b[39m\u001b[38;5;124m\"\u001b[39m)\n\u001b[0;32m      7\u001b[0m \u001b[38;5;28;01mfor\u001b[39;00m name \u001b[38;5;129;01min\u001b[39;00m \u001b[38;5;28mset\u001b[39m(rivers\u001b[38;5;241m.\u001b[39mitems()):\n\u001b[1;32m----> 8\u001b[0m     \u001b[38;5;28mprint\u001b[39m(name\u001b[38;5;241m.\u001b[39mtitle\u001b[38;5;241m+\u001b[39m\u001b[38;5;124m\"\u001b[39m\u001b[38;5;124m that it,\u001b[39m\u001b[38;5;124m\"\u001b[39m)\n",
      "\u001b[1;31mAttributeError\u001b[0m: 'tuple' object has no attribute 'title'"
     ]
    }
   ],
   "source": [
    "rivers ={\n",
    "    'nail':\"egypt\",\n",
    "    'sawat':'russia',\n",
    "    'kabul':'aghan'\n",
    "}\n",
    "print(\"this are the reivers mention below:\")\n",
    "for name in set(rivers.items()):\n",
    "    print(name.title+\", the \")"
   ]
  },
  {
   "cell_type": "code",
   "execution_count": null,
   "id": "5199bfa1",
   "metadata": {},
   "outputs": [],
   "source": []
  },
  {
   "cell_type": "markdown",
   "id": "9bb16dca",
   "metadata": {},
   "source": [
    "# OOP\n",
    "## class and Object"
   ]
  },
  {
   "cell_type": "code",
   "execution_count": null,
   "id": "4af5f476",
   "metadata": {},
   "outputs": [],
   "source": []
  },
  {
   "cell_type": "code",
   "execution_count": null,
   "id": "5f17577e",
   "metadata": {},
   "outputs": [],
   "source": []
  },
  {
   "cell_type": "code",
   "execution_count": null,
   "id": "0a61b895",
   "metadata": {},
   "outputs": [],
   "source": [
    "class Std:\n",
    "    name='Shan'\n",
    "    f_name = 'khan'\n",
    "    contact_num = '1234567'\n",
    "    email = 'abc@gmail.com'\n",
    "    \n",
    "    "
   ]
  },
  {
   "cell_type": "code",
   "execution_count": null,
   "id": "473ce6ba",
   "metadata": {},
   "outputs": [],
   "source": []
  },
  {
   "cell_type": "markdown",
   "id": "08d419b1",
   "metadata": {},
   "source": [
    "# Data Structures"
   ]
  },
  {
   "cell_type": "code",
   "execution_count": null,
   "id": "55699689",
   "metadata": {},
   "outputs": [],
   "source": []
  },
  {
   "cell_type": "code",
   "execution_count": null,
   "id": "94664954",
   "metadata": {},
   "outputs": [],
   "source": []
  }
 ],
 "metadata": {
  "kernelspec": {
   "display_name": "Python 3 (ipykernel)",
   "language": "python",
   "name": "python3"
  },
  "language_info": {
   "codemirror_mode": {
    "name": "ipython",
    "version": 3
   },
   "file_extension": ".py",
   "mimetype": "text/x-python",
   "name": "python",
   "nbconvert_exporter": "python",
   "pygments_lexer": "ipython3",
   "version": "3.11.5"
  }
 },
 "nbformat": 4,
 "nbformat_minor": 5
}
